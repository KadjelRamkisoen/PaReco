{
 "cells": [
  {
   "cell_type": "code",
   "execution_count": null,
   "metadata": {},
   "outputs": [],
   "source": [
    "import os\n",
    "import csv\n",
    "import pickle\n",
    "os.chdir('./..')\n",
    "\n",
    "import Methods.totals as totals\n",
    "import Methods.analysis as analysis\n",
    "import Methods.common as common"
   ]
  },
  {
   "cell_type": "code",
   "execution_count": null,
   "metadata": {},
   "outputs": [],
   "source": [
    "pair_id = 0\n",
    "\n",
    "data_prs = common.readPrs(pair_id, dataset_dict[pair_id]['source'])\n",
    "data_results = common.readResults(pair_id, dataset_dict[pair_id]['source'])\n",
    "# data_totals = common.readTotals(pair_id, dataset_dict[pair_id]['source'])"
   ]
  },
  {
   "cell_type": "code",
   "execution_count": null,
   "metadata": {},
   "outputs": [],
   "source": [
    "pr = '294'\n",
    "file = 'evo/entry_points.py'"
   ]
  },
  {
   "cell_type": "code",
   "execution_count": null,
   "metadata": {
    "scrolled": true
   },
   "outputs": [],
   "source": [
    "data_results[0]['6757']['keyboards/bpiphany/pegasushoof/2013/matrix.c']"
   ]
  },
  {
   "cell_type": "code",
   "execution_count": null,
   "metadata": {
    "scrolled": false
   },
   "outputs": [],
   "source": [
    "data_results[0][pr][file]['result']['hunkMatchesBuggy']"
   ]
  },
  {
   "cell_type": "code",
   "execution_count": null,
   "metadata": {},
   "outputs": [],
   "source": [
    "data_results[0][pr][file]['result']['hunkMatchesPatch']"
   ]
  },
  {
   "cell_type": "code",
   "execution_count": null,
   "metadata": {},
   "outputs": [],
   "source": [
    "data_results[0][pr][file]['result'][ 'processPatch']._patch_list[1][3]"
   ]
  },
  {
   "cell_type": "code",
   "execution_count": null,
   "metadata": {
    "scrolled": false
   },
   "outputs": [],
   "source": [
    "data_results[0][pr][file]['result'][ 'processBuggy']._patch_list[1][3]"
   ]
  },
  {
   "cell_type": "code",
   "execution_count": null,
   "metadata": {
    "scrolled": true
   },
   "outputs": [],
   "source": [
    "data_results[0][pr][file]['result'][ 'processPatch']._source_hashes"
   ]
  },
  {
   "cell_type": "markdown",
   "metadata": {},
   "source": [
    "## Check how many prs there are in total, how many I have, how many errors"
   ]
  },
  {
   "cell_type": "code",
   "execution_count": null,
   "metadata": {
    "scrolled": true
   },
   "outputs": [],
   "source": [
    "import os\n",
    "\n",
    "directory = 'Repos_prs_bugfix'\n",
    "\n",
    "total_prs = 0\n",
    "total_executed = 0\n",
    "total_empty = 0\n",
    "total_ERROR = 0\n",
    "\n",
    "prs_inventory = {}\n",
    "\n",
    "prs_exec_inventory = {}\n",
    "\n",
    "for file in os.listdir(directory):\n",
    "    with open(f'{directory}/{file}', 'rb') as f:\n",
    "        prs_file = pickle.load(f)[0]\n",
    "        \n",
    "        pair_id = file.split('_')[0]\n",
    "        \n",
    "        prs_inventory[pair_id] ={}\n",
    "        prs_inventory[pair_id]['retrieved'] = []    \n",
    "        prs_inventory[pair_id]['executed'] = []\n",
    "        prs_inventory[pair_id]['error'] = set()\n",
    "        \n",
    "#         if pair_id=='100':\n",
    "#             print(prs_file)\n",
    "        for i in prs_file:\n",
    "            total_prs += 1\n",
    "            prs_inventory[pair_id]['retrieved'].append(i)\n",
    "#             if pair_id=='100':\n",
    "#                 print(prs_inventory[pair_id])\n",
    "            \n",
    "directory = 'Repos_results'\n",
    "for file in os.listdir(directory):\n",
    "    try:\n",
    "        with open(f'{directory}/{file}', 'rb') as f:\n",
    "            prs_file = pickle.load(f)[0]\n",
    "\n",
    "            pair_id = file.split('_')[0]\n",
    "\n",
    "\n",
    "            if 'executed' not in prs_inventory[pair_id]:\n",
    "                prs_inventory[pair_id]['executed'] = []\n",
    "            if 'error' not in prs_inventory[pair_id]:\n",
    "                prs_inventory[pair_id]['error'] = set()\n",
    "\n",
    "            for i in prs_file:\n",
    "                prs_inventory[pair_id]['executed'].append(i)\n",
    "                total_executed += 1\n",
    "                try:\n",
    "                    for file_exec in prs_file[i]:\n",
    "                        patchClass = prs_file[i][file_exec]['result']['patchClass']\n",
    "                        if patchClass == 'ERROR':\n",
    "                            total_ERROR += 1\n",
    "                            prs_inventory[pair_id]['error'].add(i)\n",
    "                except Exception as e:\n",
    "                    total_empty += 1\n",
    "                    print('PR: ', i)\n",
    "                    print(prs_file[i][file_exec])\n",
    "    except Exception as e:\n",
    "        print('Exception: ', e)"
   ]
  },
  {
   "cell_type": "code",
   "execution_count": null,
   "metadata": {},
   "outputs": [],
   "source": [
    "print('total_prs: ', total_prs)\n",
    "print('total_ERROR: ', total_ERROR)\n",
    "print('total_executed: ', total_executed)\n",
    "print('total_empty: ', total_empty)"
   ]
  },
  {
   "cell_type": "code",
   "execution_count": null,
   "metadata": {},
   "outputs": [],
   "source": [
    "to_run={}\n",
    "\n",
    "to_run_len = 0\n",
    "\n",
    "for pair in prs_inventory:\n",
    "    to_run[pair] = []\n",
    "    diff = set(prs_inventory[pair]['retrieved'])- set(prs_inventory[pair]['executed'])\n",
    "    to_run[pair] = diff\n",
    "    to_run_len += len(diff)"
   ]
  },
  {
   "cell_type": "code",
   "execution_count": null,
   "metadata": {
    "scrolled": true
   },
   "outputs": [],
   "source": [
    "for i in prs_inventory:\n",
    "    if len(prs_inventory[i]['error']) > 0:\n",
    "        print('i=', i)\n",
    "        print(prs_inventory[i]['error'])\n",
    "        print('\\n')"
   ]
  },
  {
   "cell_type": "markdown",
   "metadata": {},
   "source": [
    "# Find the distribution of files classified"
   ]
  },
  {
   "cell_type": "code",
   "execution_count": null,
   "metadata": {},
   "outputs": [],
   "source": [
    "import Methods.classifier as classifier\n",
    "\n",
    "directory = 'Repos_results'\n",
    "\n",
    "extension = {}\n",
    "total_extensions = {}\n",
    "error_extensions ={}\n",
    "\n",
    "for file in os.listdir(directory):\n",
    "    try:\n",
    "        with open(f'{directory}/{file}', 'rb') as f:\n",
    "            results_file = pickle.load(f)[0]\n",
    "            pair_id = file.split('_')[0]\n",
    "            extension[pair_id] = {}\n",
    "            for pr in results_file:\n",
    "                extension[pair_id][pr] = {}\n",
    "                try:\n",
    "                    for file in results_file[pr]:\n",
    "                        ext = file.split('.')[-1]\n",
    "                        if results_file[pr][file]['result']['patchClass'] == 'ERROR':\n",
    "                            if ext in error_extensions:\n",
    "                                error_extensions[ext] += 1\n",
    "                            else:\n",
    "                                error_extensions[ext] = 1\n",
    "                        else:\n",
    "                            if ext in extension[pair_id][pr]:\n",
    "                                extension[pair_id][pr][ext] +=1\n",
    "                            else:\n",
    "                                extension[pair_id][pr][ext] = 1\n",
    "\n",
    "                            if ext in total_extensions:\n",
    "                                total_extensions[ext] += 1\n",
    "                            else:\n",
    "                                total_extensions[ext] = 1\n",
    "\n",
    "                except Exception as e:\n",
    "                    print('pair id ', pair_id)\n",
    "                    print('pr_nr is ', pr)\n",
    "                    print(e)\n",
    "                    print('\\n')\n",
    "    except EOFError:\n",
    "        continue"
   ]
  },
  {
   "cell_type": "code",
   "execution_count": null,
   "metadata": {
    "scrolled": false
   },
   "outputs": [],
   "source": [
    "# C           = 2\n",
    "#     Java        = 3\n",
    "#     ShellScript = 4\n",
    "#     Python      = 5\n",
    "#     Perl        = 6\n",
    "#     PHP         = 7\n",
    "#     Ruby        = 8\n",
    "#     yaml        = 9\n",
    "#     scala       = 10\n",
    "#     ipynb       = 11\n",
    "#     js          = 12\n",
    "#     JSON        = 13\n",
    "#     kotlin      = 14\n",
    "#     xml         = 15\n",
    "#     gradle      = 16\n",
    "#     GEMFILE     = 17\n",
    "#     REQ_TXT     = 18\n",
    "\n",
    "print('json=',total_extensions['json'])\n",
    "print('h=',total_extensions['h'])\n",
    "print('c=',total_extensions['c'])\n",
    "print('cpp=',total_extensions['cpp'])\n",
    "print('php=',total_extensions['php'])\n",
    "print('sh=',total_extensions['sh'])\n",
    "print('yaml=',total_extensions['yaml'])\n",
    "print('yml=',total_extensions['yml'])\n",
    "print('xml=',total_extensions['xml'])\n",
    "print('scala=',total_extensions['scala'])\n",
    "print('ipynb=',total_extensions['ipynb'])\n",
    "print('js=',total_extensions['js'])\n",
    "print('kt=',total_extensions['kt'])\n",
    "print('py=',total_extensions['py'])\n",
    "print('gradle=',total_extensions['gradle'])\n",
    "print('gemfile=',total_extensions['gemfile'])\n",
    "# print(total_extensions['pl'])\n",
    "print('rb=',total_extensions['rb'])"
   ]
  },
  {
   "cell_type": "code",
   "execution_count": null,
   "metadata": {},
   "outputs": [],
   "source": [
    "error_extensions"
   ]
  },
  {
   "cell_type": "code",
   "execution_count": null,
   "metadata": {},
   "outputs": [],
   "source": [
    "import matplotlib.pyplot as plt\n",
    "\n",
    "total_hist =[total_extensions['json'], total_extensions['h'], total_extensions['c'], total_extensions['cpp'],total_extensions['php'],total_extensions['sh'],total_extensions['yaml'],total_extensions['yml'],total_extensions['xml'],total_extensions['scala'],total_extensions['ipynb'],total_extensions['js'],total_extensions['kt'],total_extensions['py'],total_extensions['gradle'],total_extensions['gemfile'],total_extensions['rb']]\n",
    "\n",
    "left = [1, 2, 3, 4, 5, 6, 7, 8,9,10,11,12,13,14,15,16,17]\n",
    "\n",
    "plt.figure(figsize=(15,15), dpi=80)\n",
    "plt.xlabel('Language')\n",
    "plt.ylabel('Frequency')\n",
    "plt.bar(left, total_hist, tick_label = ['json', 'h', 'c', 'cpp', 'php', 'sh', 'yaml', 'yml', 'xml', 'scala', 'ipynb', 'js', 'kt', 'py', 'gradle', 'gemfile', 'rb'], width = 0.8)"
   ]
  },
  {
   "cell_type": "code",
   "execution_count": null,
   "metadata": {},
   "outputs": [],
   "source": [
    "len(total_hist)"
   ]
  },
  {
   "cell_type": "code",
   "execution_count": null,
   "metadata": {},
   "outputs": [],
   "source": []
  }
 ],
 "metadata": {
  "kernelspec": {
   "display_name": "Python 3",
   "language": "python",
   "name": "python3"
  },
  "language_info": {
   "codemirror_mode": {
    "name": "ipython",
    "version": 3
   },
   "file_extension": ".py",
   "mimetype": "text/x-python",
   "name": "python",
   "nbconvert_exporter": "python",
   "pygments_lexer": "ipython3",
   "version": "3.8.3"
  }
 },
 "nbformat": 4,
 "nbformat_minor": 4
}
