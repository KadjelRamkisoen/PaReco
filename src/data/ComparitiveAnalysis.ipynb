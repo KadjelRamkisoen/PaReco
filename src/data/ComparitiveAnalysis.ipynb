{
 "cells": [
  {
   "cell_type": "code",
   "execution_count": null,
   "id": "98aeb10a",
   "metadata": {},
   "outputs": [],
   "source": [
    "import os\n",
    "import csv\n",
    "import pickle\n",
    "os.chdir('./../..')\n",
    "\n",
    "import matplotlib.pyplot as plt\n",
    "\n",
    "import Methods.totals as totals\n",
    "import Methods.analysis as analysis\n",
    "import Methods.common as common\n",
    "import Methods.classifier as classifier"
   ]
  },
  {
   "cell_type": "markdown",
   "id": "ea90d87c",
   "metadata": {},
   "source": [
    "# Calculate all prs, all executes, empty and errorneous"
   ]
  },
  {
   "cell_type": "code",
   "execution_count": null,
   "id": "8ca9d83b",
   "metadata": {
    "scrolled": true
   },
   "outputs": [],
   "source": [
    "directory = 'Repos_prs_bugfix'\n",
    "\n",
    "total_prs = 0\n",
    "total_executed = 0\n",
    "total_empty = 0\n",
    "total_ERROR = 0\n",
    "\n",
    "all_extension = {}\n",
    "total_all_extensions = {}\n",
    "\n",
    "prs_inventory = {}\n",
    "\n",
    "prs_exec_inventory = {}\n",
    "\n",
    "for file in os.listdir(directory):\n",
    "    try:\n",
    "        with open(f'{directory}/{file}', 'rb') as f:\n",
    "            prs_file = pickle.load(f)[0]\n",
    "\n",
    "            pair_id = file.split('_')[0]\n",
    "\n",
    "            prs_inventory[pair_id] ={}\n",
    "            prs_inventory[pair_id]['retrieved'] = []    \n",
    "            prs_inventory[pair_id]['executed'] = []\n",
    "            prs_inventory[pair_id]['error'] = set()\n",
    "\n",
    "            for i in prs_file:\n",
    "                total_prs += 1\n",
    "                prs_inventory[pair_id]['retrieved'].append(i)\n",
    "\n",
    "            all_extension[pair_id] = {}\n",
    "\n",
    "            for pr in prs_file: \n",
    "                all_extension[pair_id][pr] = {}\n",
    "                try:\n",
    "                    for file in prs_file[pr]['commits_data'][0]:\n",
    "                        ext = file.split('.')[-1]\n",
    "                        if ext in all_extension[pair_id][pr]:\n",
    "                            all_extension[pair_id][pr][ext] +=1\n",
    "                        else:\n",
    "                            all_extension[pair_id][pr][ext]=1\n",
    "\n",
    "                        if ext in total_all_extensions:\n",
    "                            total_all_extensions[ext] += 1\n",
    "                        else:\n",
    "                            total_all_extensions[ext]=1\n",
    "                except Exception as e:\n",
    "                    print('pair id ', pair_id)\n",
    "                    print('pr_nr is ', pr)\n",
    "                    print(e)\n",
    "                    print('\\n')\n",
    "    except EOFError:\n",
    "        continue"
   ]
  },
  {
   "cell_type": "code",
   "execution_count": null,
   "id": "53b77c5e",
   "metadata": {
    "scrolled": true
   },
   "outputs": [],
   "source": [
    "extension = {}\n",
    "total_extensions = {}\n",
    "error_extensions ={}\n",
    "\n",
    "directory = 'Repos_results'\n",
    "for file in os.listdir(directory):\n",
    "    try:\n",
    "        with open(f'{directory}/{file}', 'rb') as f:\n",
    "            results_file = pickle.load(f)[0]\n",
    "\n",
    "            pair_id = file.split('_')[0]\n",
    "\n",
    "            if 'executed' not in prs_inventory[pair_id]:\n",
    "                prs_inventory[pair_id]['executed'] = []\n",
    "            if 'error' not in prs_inventory[pair_id]:\n",
    "                prs_inventory[pair_id]['error'] = set()\n",
    "\n",
    "            for i in results_file:\n",
    "                prs_inventory[pair_id]['executed'].append(i)\n",
    "                total_executed += 1\n",
    "                try:\n",
    "                    for file_exec in results_file[i]:\n",
    "                        patchClass = results_file[i][file_exec]['result']['patchClass']\n",
    "                        if patchClass == 'ERROR':\n",
    "                            total_ERROR += 1\n",
    "                            prs_inventory[pair_id]['error'].add(i)\n",
    "                except Exception as e:\n",
    "                    total_empty += 1\n",
    "                    print('PR: ', i)\n",
    "                    print(results_file[i][file_exec])\n",
    "                    \n",
    "            extension[pair_id] = {}\n",
    "            for pr in results_file:\n",
    "                extension[pair_id][pr] = {}\n",
    "                try:\n",
    "                    for file in results_file[pr]:\n",
    "                        ext = file.split('.')[-1]\n",
    "                        if results_file[pr][file]['result']['patchClass'] == 'ERROR':\n",
    "                            if ext in error_extensions:\n",
    "                                error_extensions[ext] += 1\n",
    "                            else:\n",
    "                                error_extensions[ext] = 1\n",
    "                        else:\n",
    "                            if ext in extension[pair_id][pr]:\n",
    "                                extension[pair_id][pr][ext] +=1\n",
    "                            else:\n",
    "                                extension[pair_id][pr][ext] = 1\n",
    "\n",
    "                            if ext in total_extensions:\n",
    "                                total_extensions[ext] += 1\n",
    "                            else:\n",
    "                                total_extensions[ext] = 1\n",
    "\n",
    "                except Exception as e:\n",
    "                    print('pair id ', pair_id)\n",
    "                    print('pr_nr is ', pr)\n",
    "                    print(e)\n",
    "                    print('\\n')\n",
    "    except Exception as e:\n",
    "        continue\n",
    "#         print('Exception: ', e)"
   ]
  },
  {
   "cell_type": "code",
   "execution_count": null,
   "id": "cc451b37",
   "metadata": {},
   "outputs": [],
   "source": [
    "print('total_prs: ', total_prs)\n",
    "print('total_ERROR: ', total_ERROR)\n",
    "print('total_executed: ', total_executed)\n",
    "print('total_empty: ', total_empty)"
   ]
  },
  {
   "cell_type": "markdown",
   "id": "eeebc809",
   "metadata": {},
   "source": [
    "# Check what still needs to be run"
   ]
  },
  {
   "cell_type": "code",
   "execution_count": null,
   "id": "51bc0e59",
   "metadata": {},
   "outputs": [],
   "source": [
    "to_run={}\n",
    "\n",
    "to_run_len = 0\n",
    "\n",
    "for pair in prs_inventory:\n",
    "    to_run[pair] = []\n",
    "    diff = set(prs_inventory[pair]['retrieved'])- set(prs_inventory[pair]['executed'])\n",
    "    to_run[pair] = diff\n",
    "    to_run_len += len(diff)"
   ]
  },
  {
   "cell_type": "code",
   "execution_count": null,
   "id": "684bd039",
   "metadata": {
    "scrolled": true
   },
   "outputs": [],
   "source": [
    "# VISUAL OF ERROR PRS\n",
    "for i in prs_inventory:\n",
    "    if len(prs_inventory[i]['error']) > 0:\n",
    "        print('i=', i)\n",
    "        print(prs_inventory[i]['error'])\n",
    "        print('\\n')"
   ]
  },
  {
   "cell_type": "code",
   "execution_count": null,
   "id": "d4f878f6",
   "metadata": {},
   "outputs": [],
   "source": [
    "# import Methods.classifier as classifier\n",
    "\n",
    "# directory = 'Repos_results'\n",
    "\n",
    "# extension = {}\n",
    "# total_extensions = {}\n",
    "# error_extensions ={}\n",
    "\n",
    "# for file in os.listdir(directory):\n",
    "#     try:\n",
    "#         with open(f'{directory}/{file}', 'rb') as f:\n",
    "#             results_file = pickle.load(f)[0]\n",
    "#             pair_id = file.split('_')[0]\n",
    "#             extension[pair_id] = {}\n",
    "#             for pr in results_file:\n",
    "#                 extension[pair_id][pr] = {}\n",
    "#                 try:\n",
    "#                     for file in results_file[pr]:\n",
    "#                         ext = file.split('.')[-1]\n",
    "#                         if results_file[pr][file]['result']['patchClass'] == 'ERROR':\n",
    "#                             if ext in error_extensions:\n",
    "#                                 error_extensions[ext] += 1\n",
    "#                             else:\n",
    "#                                 error_extensions[ext] = 1\n",
    "#                         else:\n",
    "#                             if ext in extension[pair_id][pr]:\n",
    "#                                 extension[pair_id][pr][ext] +=1\n",
    "#                             else:\n",
    "#                                 extension[pair_id][pr][ext] = 1\n",
    "\n",
    "#                             if ext in total_extensions:\n",
    "#                                 total_extensions[ext] += 1\n",
    "#                             else:\n",
    "#                                 total_extensions[ext] = 1\n",
    "\n",
    "#                 except Exception as e:\n",
    "#                     print('pair id ', pair_id)\n",
    "#                     print('pr_nr is ', pr)\n",
    "#                     print(e)\n",
    "#                     print('\\n')\n",
    "#     except EOFError:\n",
    "#         continue"
   ]
  },
  {
   "cell_type": "code",
   "execution_count": null,
   "id": "a93a51d7",
   "metadata": {},
   "outputs": [],
   "source": [
    "# import Methods.classifier as classifier\n",
    "\n",
    "# directory = 'Repos_results'\n",
    "\n",
    "# extension = {}\n",
    "# total_extensions = {}\n",
    "# error_extensions ={}\n",
    "\n",
    "# for file in os.listdir(directory):\n",
    "#     try:\n",
    "#         with open(f'{directory}/{file}', 'rb') as f:\n",
    "#             results_file = pickle.load(f)[0]\n",
    "#             pair_id = file.split('_')[0]\n",
    "#             extension[pair_id] = {}\n",
    "#             for pr in results_file:\n",
    "#                 extension[pair_id][pr] = {}\n",
    "#                 try:\n",
    "#                     for file in results_file[pr]:\n",
    "#                         ext = file.split('.')[-1]\n",
    "#                         if results_file[pr][file]['result']['patchClass'] == 'ERROR':\n",
    "#                             if ext in error_extensions:\n",
    "#                                 error_extensions[ext] += 1\n",
    "#                             else:\n",
    "#                                 error_extensions[ext] = 1\n",
    "#                         else:\n",
    "#                             if ext in extension[pair_id][pr]:\n",
    "#                                 extension[pair_id][pr][ext] +=1\n",
    "#                             else:\n",
    "#                                 extension[pair_id][pr][ext] = 1\n",
    "\n",
    "#                             if ext in total_extensions:\n",
    "#                                 total_extensions[ext] += 1\n",
    "#                             else:\n",
    "#                                 total_extensions[ext] = 1\n",
    "\n",
    "#                 except Exception as e:\n",
    "#                     print('pair id ', pair_id)\n",
    "#                     print('pr_nr is ', pr)\n",
    "#                     print(e)\n",
    "#                     print('\\n')\n",
    "#     except EOFError:\n",
    "#         continue"
   ]
  },
  {
   "cell_type": "code",
   "execution_count": null,
   "id": "e18fe565",
   "metadata": {},
   "outputs": [],
   "source": [
    "total_all_extensions['pl']"
   ]
  },
  {
   "cell_type": "markdown",
   "id": "3aade1f6",
   "metadata": {},
   "source": [
    "# Plot the distribution of all files"
   ]
  },
  {
   "cell_type": "code",
   "execution_count": null,
   "id": "8a935362",
   "metadata": {},
   "outputs": [],
   "source": [
    "total_all_hist =[total_all_extensions['java'], total_all_extensions['json'], total_all_extensions['h'], total_all_extensions['c'], total_all_extensions['cpp'],total_all_extensions['php'],total_all_extensions['sh'],total_all_extensions['yaml'],total_all_extensions['yml'],total_all_extensions['xml'],total_all_extensions['scala'],total_all_extensions['ipynb'],total_all_extensions['js'],total_all_extensions['kt'],total_all_extensions['py'],total_all_extensions['gradle'],total_all_extensions['gemfile'],total_all_extensions['rb'],total_all_extensions['pl']]\n",
    "\n",
    "left = [1, 2, 3, 4, 5, 6, 7, 8,9,10,11,12,13,14,15,16,17,18,19]\n",
    "\n",
    "plt.figure(figsize=(15,15), dpi=80)\n",
    "plt.xlabel('Language')\n",
    "plt.ylabel('Frequency')\n",
    "plt.bar(left, total_all_hist, tick_label = ['java', 'json', 'h', 'c', 'cpp', 'php', 'sh', 'yaml', 'yml', 'xml', 'scala', 'ipynb', 'js', 'kt', 'py', 'gradle', 'gemfile', 'rb', 'pl'], width = 0.8)"
   ]
  },
  {
   "cell_type": "markdown",
   "id": "247a72e3",
   "metadata": {},
   "source": [
    "# Plot the distribution of files classified"
   ]
  },
  {
   "cell_type": "code",
   "execution_count": null,
   "id": "d621da38",
   "metadata": {},
   "outputs": [],
   "source": [
    "total_hist =[total_extensions['java'], total_extensions['json'], total_extensions['h'], total_extensions['c'], total_extensions['cpp'],total_extensions['php'],total_extensions['sh'],total_extensions['yaml'],total_extensions['yml'],total_extensions['xml'],total_extensions['scala'],total_extensions['ipynb'],total_extensions['js'],total_extensions['kt'],total_extensions['py'],total_extensions['gradle'],total_extensions['gemfile'],total_extensions['rb'], 0]\n",
    "\n",
    "left = [1, 2, 3, 4, 5, 6, 7, 8,9,10,11,12,13,14,15,16,17,18, 19]\n",
    "\n",
    "plt.figure(figsize=(15,15), dpi=80)\n",
    "plt.xlabel('Language')\n",
    "plt.ylabel('Frequency')\n",
    "plt.bar(left, total_hist, tick_label = ['java', 'json', 'h', 'c', 'cpp', 'php', 'sh', 'yaml', 'yml', 'xml', 'scala', 'ipynb', 'js', 'kt', 'py', 'gradle', 'gemfile', 'rb','pl'], width = 0.8)"
   ]
  },
  {
   "cell_type": "code",
   "execution_count": null,
   "id": "f44db207",
   "metadata": {},
   "outputs": [],
   "source": [
    "import numpy as np\n",
    "\n",
    "X_axis = np.arange(len(left))\n",
    "\n",
    "plt.figure(figsize=(15,15), dpi=80)\n",
    "plt.bar(X_axis - 0.2, total_all_hist, 0.4, tick_label = ['java', 'json', 'h', 'c', 'cpp', 'php', 'sh', 'yaml', 'yml', 'xml', 'scala', 'ipynb', 'js', 'kt', 'py', 'gradle', 'gemfile', 'rb','pl'],label = 'ALL')\n",
    "plt.bar(X_axis + 0.2, total_hist, 0.4,tick_label = ['java', 'json', 'h', 'c', 'cpp', 'php', 'sh', 'yaml', 'yml', 'xml', 'scala', 'ipynb', 'js', 'kt', 'py', 'gradle', 'gemfile', 'rb','pl'], label = 'CLASSIFIED')"
   ]
  },
  {
   "cell_type": "markdown",
   "id": "8db4afd8",
   "metadata": {},
   "source": [
    "# Percentage executed"
   ]
  },
  {
   "cell_type": "code",
   "execution_count": null,
   "id": "fcab4085",
   "metadata": {},
   "outputs": [],
   "source": [
    "print(f'percentage executed out of all= {100*total_executed/total_prs}')\n",
    "print(f'percentage error out of executed = {100*total_ERROR/total_executed}')\n",
    "print(f'percentage error out of all = {100*total_ERROR/total_prs}')"
   ]
  },
  {
   "cell_type": "code",
   "execution_count": null,
   "id": "aa194c83",
   "metadata": {},
   "outputs": [],
   "source": [
    "print(f'percentage executed out of all= {100*8073/total_prs}')\n",
    "print(f'percentage error out of executed = {100*total_ERROR/8073}')\n",
    "print(f'percentage error out of all = {100*total_ERROR/total_prs}')"
   ]
  },
  {
   "cell_type": "code",
   "execution_count": null,
   "id": "d0c1123a",
   "metadata": {},
   "outputs": [],
   "source": []
  }
 ],
 "metadata": {
  "kernelspec": {
   "display_name": "Python 3",
   "language": "python",
   "name": "python3"
  },
  "language_info": {
   "codemirror_mode": {
    "name": "ipython",
    "version": 3
   },
   "file_extension": ".py",
   "mimetype": "text/x-python",
   "name": "python",
   "nbconvert_exporter": "python",
   "pygments_lexer": "ipython3",
   "version": "3.8.5"
  }
 },
 "nbformat": 4,
 "nbformat_minor": 5
}
