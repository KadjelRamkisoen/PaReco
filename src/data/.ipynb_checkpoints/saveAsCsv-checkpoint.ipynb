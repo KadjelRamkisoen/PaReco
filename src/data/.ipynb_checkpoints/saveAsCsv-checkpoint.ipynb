{
 "cells": [
  {
   "cell_type": "code",
   "execution_count": 1,
   "id": "5f40b862",
   "metadata": {},
   "outputs": [],
   "source": [
    "os.chdir('./../..')"
   ]
  },
  {
   "cell_type": "code",
   "execution_count": 5,
   "id": "9488bdb3",
   "metadata": {},
   "outputs": [],
   "source": [
    "import csv\n",
    "import os\n",
    "import pickle"
   ]
  },
  {
   "cell_type": "code",
   "execution_count": 6,
   "id": "feec1d54",
   "metadata": {},
   "outputs": [],
   "source": [
    "pairs = [0,1,2,3,4,6,7,8,9,10,11,12,13,14,15,16,18,19,20,23,24,25,26,27,28,30,31,32,34,35,36,38,39,41,42,43,44,46,48,49,51,52,53,54,55,56,58,60,62,63,64,65,66,67,72,73,74,79,82,86,88,89,90,91,93,94,95,96,97,165,180,183,184]"
   ]
  },
  {
   "cell_type": "code",
   "execution_count": 7,
   "id": "cec0a81a",
   "metadata": {},
   "outputs": [],
   "source": [
    "with open(\"sorted_all_dataset.pkl\", \"rb\") as f:\n",
    "    dataset = pickle.load(f)"
   ]
  },
  {
   "cell_type": "code",
   "execution_count": 9,
   "id": "0ecfc498",
   "metadata": {},
   "outputs": [
    {
     "ename": "AttributeError",
     "evalue": "module 'Methods.common' has no attribute 'readMetrics'",
     "output_type": "error",
     "traceback": [
      "\u001b[0;31m---------------------------------------------------------------------------\u001b[0m",
      "\u001b[0;31mAttributeError\u001b[0m                            Traceback (most recent call last)",
      "\u001b[0;32m<ipython-input-9-54d8be5e20bf>\u001b[0m in \u001b[0;36m<module>\u001b[0;34m\u001b[0m\n\u001b[1;32m      2\u001b[0m \u001b[0;34m\u001b[0m\u001b[0m\n\u001b[1;32m      3\u001b[0m \u001b[0;32mfor\u001b[0m \u001b[0mpair_id\u001b[0m \u001b[0;32min\u001b[0m \u001b[0mpairs\u001b[0m\u001b[0;34m:\u001b[0m\u001b[0;34m\u001b[0m\u001b[0;34m\u001b[0m\u001b[0m\n\u001b[0;32m----> 4\u001b[0;31m     \u001b[0mmetrics\u001b[0m\u001b[0;34m,\u001b[0m \u001b[0mtime\u001b[0m \u001b[0;34m=\u001b[0m \u001b[0mcommon\u001b[0m\u001b[0;34m.\u001b[0m\u001b[0mreadMetrics\u001b[0m\u001b[0;34m(\u001b[0m\u001b[0mpair_id\u001b[0m\u001b[0;34m,\u001b[0m \u001b[0mdataset\u001b[0m\u001b[0;34m[\u001b[0m\u001b[0mpair_id\u001b[0m\u001b[0;34m]\u001b[0m\u001b[0;34m[\u001b[0m\u001b[0;34m'source'\u001b[0m\u001b[0;34m]\u001b[0m\u001b[0;34m)\u001b[0m\u001b[0;34m\u001b[0m\u001b[0;34m\u001b[0m\u001b[0m\n\u001b[0m\u001b[1;32m      5\u001b[0m     \u001b[0mresults\u001b[0m\u001b[0;34m,\u001b[0m \u001b[0mtime\u001b[0m \u001b[0;34m=\u001b[0m \u001b[0mcommon\u001b[0m\u001b[0;34m.\u001b[0m\u001b[0mreadResults\u001b[0m\u001b[0;34m(\u001b[0m\u001b[0mpair_id\u001b[0m\u001b[0;34m,\u001b[0m \u001b[0mdataset\u001b[0m\u001b[0;34m[\u001b[0m\u001b[0mpair_id\u001b[0m\u001b[0;34m]\u001b[0m\u001b[0;34m[\u001b[0m\u001b[0;34m'source'\u001b[0m\u001b[0;34m]\u001b[0m\u001b[0;34m)\u001b[0m\u001b[0;34m\u001b[0m\u001b[0;34m\u001b[0m\u001b[0m\n\u001b[1;32m      6\u001b[0m \u001b[0;34m\u001b[0m\u001b[0m\n",
      "\u001b[0;31mAttributeError\u001b[0m: module 'Methods.common' has no attribute 'readMetrics'"
     ]
    }
   ],
   "source": [
    "to_write = []\n",
    "\n",
    "for pair_id in pairs:\n",
    "    metrics, time = common.readMetrics(pair_id, dataset[pair_id]['source'])\n",
    "    results, time = common.readResults(pair_id, dataset[pair_id]['source'])\n",
    "    \n",
    "    data = []\n",
    "    \n",
    "    # Pair ID,PR,File,File Classifications,Manual Check File Classifications,\n",
    "    # hunk,Hunk Matches Buggy,Hunk Matches Patch,Hunk Classification,Manual Check Hunk Classification,\n",
    "    # Manual Check,Patch classification\n",
    "\n",
    "    for pr in results:\n",
    "        \n",
    "        for file in results[pr]:\n",
    "            fileName = file\n",
    "            patchClass = results[pr][file]['result']['patchClass']\n",
    "            \n",
    "            data.append(pair_id)\n",
    "            data.append(pr)\n",
    "            data.append(fileName)\n",
    "            data.append(patchClass)\n",
    "            data.append('')\n",
    "            data.append('')\n",
    "            data.append('')\n",
    "            data.append('')\n",
    "            data.append('')\n",
    "            data.append('')\n",
    "            data.append('')\n",
    "            to_write.append(data)\n",
    "            \n",
    "            buggyClass = ''\n",
    "            patchClass = ''\n",
    "            \n",
    "            hunkMatchesBuggy = results[pr][file]['result']['hunkMatchesBuggy']\n",
    "            hunkMatchesPatch = results[pr][file]['result']['hunkMatchesPatch']\n",
    "            \n",
    "            for hunk in hunkMatchesBuggy:\n",
    "                ['', '', '', '', '', hunk, hunkMatchesBuggy[hunk]['class'], hunkMatchesPatch[hunk]['class'], '', '', '']"
   ]
  },
  {
   "cell_type": "code",
   "execution_count": 8,
   "id": "997e8d30",
   "metadata": {},
   "outputs": [
    {
     "data": {
      "text/plain": [
       "[{'128': {'setup.py': {'result': {'type': 'MODIFIED',\n",
       "     'destPath': 'Repos_files/63/chrisspen/howdou/setup.py',\n",
       "     'destUrl': 'https://raw.githubusercontent.com/chrisspen/howdou/f0c44b044b12b75023c06ee6f1815846a098bda4/setup.py',\n",
       "     'fileAfterPatchUrl': 'https://raw.githubusercontent.com/gleitz/howdoi/369eb327e139365e2b916129e52437bb2b454e64/setup.py',\n",
       "     'fileBeforePatchUrl': 'https://raw.githubusercontent.com/gleitz/howdoi/b10cf8244021b3035c059d7207e2e5fcb2eb67d5/setup.py',\n",
       "     'patchPath': 'Repos_files/63/gleitz/howdoi/128/369eb327e139365e2b916129e52437bb2b454e64/patches/setup.patch',\n",
       "     'processBuggy': <Methods.sourceLoader.SourceLoader at 0x7fb66009cf10>,\n",
       "     'processPatch': <Methods.sourceLoader.SourceLoader at 0x7fb638e7f400>,\n",
       "     'hunkMatchesBuggy': {0: {'sequences': {0: {'count': 0,\n",
       "         'hash_list': [1555512, 1931916, 337669],\n",
       "         'important': False},\n",
       "        1: {'count': 0,\n",
       "         'hash_list': [1442061, 809165, 1883534],\n",
       "         'important': False},\n",
       "        2: {'count': 0,\n",
       "         'hash_list': [621838, 157694, 2070171],\n",
       "         'important': False},\n",
       "        3: {'count': 0,\n",
       "         'hash_list': [1030260, 1489778, 1096409],\n",
       "         'important': False},\n",
       "        4: {'count': 0,\n",
       "         'hash_list': [1886121, 1944875, 1344842],\n",
       "         'important': False}},\n",
       "       'class': 'MC'}},\n",
       "     'hunkMatchesPatch': {0: {'sequences': {0: {'count': 0,\n",
       "         'hash_list': [1555512, 1931916, 337669],\n",
       "         'important': False},\n",
       "        1: {'count': 0,\n",
       "         'hash_list': [1442061, 809165, 1883534],\n",
       "         'important': False},\n",
       "        2: {'count': 0,\n",
       "         'hash_list': [621838, 157694, 2070171],\n",
       "         'important': False},\n",
       "        3: {'count': 0,\n",
       "         'hash_list': [1030260, 1489778, 1096409],\n",
       "         'important': False},\n",
       "        4: {'count': 0,\n",
       "         'hash_list': [1886121, 1944875, 1344842],\n",
       "         'important': False}},\n",
       "       'class': 'MC'}},\n",
       "     'patchClass': 'NA'}}},\n",
       "  '375': {'howdoi/howdoi.py': {'result': {'patchClass': 'NOT EXISTING'}}}},\n",
       " 1.118776798248291]"
      ]
     },
     "execution_count": 8,
     "metadata": {},
     "output_type": "execute_result"
    }
   ],
   "source": [
    "import Methods.common as common\n",
    "\n",
    "common.readResults(63, dataset[63]['source'])"
   ]
  },
  {
   "cell_type": "code",
   "execution_count": null,
   "id": "a63246bd",
   "metadata": {},
   "outputs": [],
   "source": []
  }
 ],
 "metadata": {
  "kernelspec": {
   "display_name": "Python 3",
   "language": "python",
   "name": "python3"
  },
  "language_info": {
   "codemirror_mode": {
    "name": "ipython",
    "version": 3
   },
   "file_extension": ".py",
   "mimetype": "text/x-python",
   "name": "python",
   "nbconvert_exporter": "python",
   "pygments_lexer": "ipython3",
   "version": "3.8.5"
  }
 },
 "nbformat": 4,
 "nbformat_minor": 5
}
