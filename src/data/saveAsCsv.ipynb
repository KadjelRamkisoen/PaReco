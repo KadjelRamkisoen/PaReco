{
 "cells": [
  {
   "cell_type": "code",
   "execution_count": 1,
   "id": "52b72522",
   "metadata": {},
   "outputs": [],
   "source": [
    "import csv\n",
    "import os\n",
    "import pickle\n",
    "\n",
    "os.chdir('./../..')\n",
    "\n",
    "import Methods.common as common"
   ]
  },
  {
   "cell_type": "code",
   "execution_count": 2,
   "id": "feec1d54",
   "metadata": {},
   "outputs": [],
   "source": [
    "pairs = [0,1,2,3,4,6,7,8,9,10,11,12,13,14,15,16,18,19,20,23,24,25,26,27,28,30,31,32,34,35,36,38,39,41,42,43,44,46,48,49,51,52,53,54,55,56,58,60,62,63,64,65,66,67,72,73,74,79,82,86,88,89,90,91,93,94,95,96,97,165,180,183,184]"
   ]
  },
  {
   "cell_type": "code",
   "execution_count": 3,
   "id": "cec0a81a",
   "metadata": {},
   "outputs": [],
   "source": [
    "with open(\"sorted_all_dataset.pkl\", \"rb\") as f:\n",
    "    dataset = pickle.load(f)"
   ]
  },
  {
   "cell_type": "code",
   "execution_count": 4,
   "id": "0ecfc498",
   "metadata": {
    "scrolled": false
   },
   "outputs": [
    {
     "name": "stdout",
     "output_type": "stream",
     "text": [
      "[Errno 2] No such file or directory: 'Repos_totals/10_MongoEngine_mongoengine_totals.pkl'\n",
      "[Errno 2] No such file or directory: 'Repos_totals/16_vector-im_riot-android_totals.pkl'\n"
     ]
    }
   ],
   "source": [
    "from pprint import pprint\n",
    "to_write = []\n",
    "\n",
    "for pair_id in pairs:\n",
    "    try:\n",
    "        totals, time = common.readTotals(pair_id, dataset[pair_id]['source'])\n",
    "        results, time = common.readResults(pair_id, dataset[pair_id]['source'])\n",
    "\n",
    "        \n",
    "\n",
    "        # Pair ID,PR,File,File Classifications,Manual Check File Classifications,\n",
    "        # hunk,Hunk Matches Buggy,Hunk Matches Patch,Hunk Classification,Manual Check Hunk Classification,\n",
    "        # Manual Check,Patch classification\n",
    "\n",
    "        for pr in results:\n",
    "            for file in results[pr]:\n",
    "                try:\n",
    "                    data = []\n",
    "                    \n",
    "                    fileName = file\n",
    "\n",
    "                    patchClass = results[pr][file]['result']['patchClass']\n",
    "\n",
    "                    data.append(pair_id)\n",
    "                    data.append(pr)\n",
    "                    data.append(fileName)\n",
    "                    data.append(patchClass)\n",
    "                    data.append('')\n",
    "                    data.append('')\n",
    "                    data.append('')\n",
    "                    data.append('')\n",
    "                    data.append('')\n",
    "                    data.append('')\n",
    "                    data.append('')\n",
    "                    to_write.append(data)\n",
    "\n",
    "                    if patchClass in ['ED', 'MO', 'SP', 'NA']:\n",
    "                        hunkMatchesBuggy = results[pr][file]['result']['hunkMatchesBuggy']\n",
    "                        hunkMatchesPatch = results[pr][file]['result']['hunkMatchesPatch']\n",
    "\n",
    "                        for hunk in hunkMatchesBuggy:\n",
    "                            to_write.append(['', '', '', '', '', hunk, hunkMatchesBuggy[hunk]['class'], hunkMatchesPatch[hunk]['class'], '', '', ''])\n",
    "                except: \n",
    "                    print('Pair id: ', pair_id)\n",
    "                    print('PR: ', pr)\n",
    "                    pprint(results[pr])\n",
    "#                     print(results[pr][file])\n",
    "            to_write.append(['', '', '', '', '', '', '', '', '','', totals[pr]['class']])\n",
    "    except Exception as e:\n",
    "        print(e)"
   ]
  },
  {
   "cell_type": "code",
   "execution_count": 5,
   "id": "1187187c",
   "metadata": {},
   "outputs": [],
   "source": [
    "import pandas as pd\n",
    "\n",
    "columns = ['Pair ID', 'PR','File','File Classifications','Manual Check File Classifications','hunk','Hunk Matches Buggy','Hunk Matches Patch','Hunk Classification','Manual Check Hunk Classification', 'Patch classification']\n",
    "\n",
    "df_to_write = pd.DataFrame(to_write, columns = columns) "
   ]
  },
  {
   "cell_type": "code",
   "execution_count": 6,
   "id": "87dbb9d2",
   "metadata": {},
   "outputs": [],
   "source": [
    "run = 4"
   ]
  },
  {
   "cell_type": "code",
   "execution_count": 7,
   "id": "7104c77c",
   "metadata": {},
   "outputs": [],
   "source": [
    "df_to_write.to_csv(f'improvedClass_run_{run}.csv')"
   ]
  },
  {
   "cell_type": "code",
   "execution_count": null,
   "id": "dde9389b",
   "metadata": {},
   "outputs": [],
   "source": []
  }
 ],
 "metadata": {
  "kernelspec": {
   "display_name": "Python 3",
   "language": "python",
   "name": "python3"
  },
  "language_info": {
   "codemirror_mode": {
    "name": "ipython",
    "version": 3
   },
   "file_extension": ".py",
   "mimetype": "text/x-python",
   "name": "python",
   "nbconvert_exporter": "python",
   "pygments_lexer": "ipython3",
   "version": "3.8.5"
  }
 },
 "nbformat": 4,
 "nbformat_minor": 5
}
