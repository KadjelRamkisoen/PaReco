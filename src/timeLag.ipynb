{
 "cells": [
  {
   "cell_type": "code",
   "execution_count": 1,
   "metadata": {},
   "outputs": [],
   "source": [
    "import csv\n",
    "import re\n",
    "import pickle\n",
    "import json\n",
    "import sys\n",
    "import requests\n",
    "from pprint import pprint\n",
    "import os\n",
    "import datetime\n",
    "import Methods.classifier as classifier"
   ]
  },
  {
   "cell_type": "code",
   "execution_count": 4,
   "metadata": {},
   "outputs": [],
   "source": [
    "with open(\"sorted_all_dataset.pkl\", \"rb\") as f:\n",
    "    dataset = pickle.load(f)\n",
    "    \n",
    "with open(\"dataset_dict_all.pkl\", \"rb\") as f:\n",
    "    data_all = pickle.load(f)"
   ]
  },
  {
   "cell_type": "code",
   "execution_count": 13,
   "metadata": {},
   "outputs": [],
   "source": [
    "directory = 'Repos_metrics'\n",
    "\n",
    "mapping = {}\n",
    "for filename in os.listdir(directory):\n",
    "    file_path = os.path.join(directory, filename)\n",
    "    if os.path.isfile(file_path):        \n",
    "        name_splitted = filename.split('_')\n",
    "        pair_id = int(re.findall(r'\\d+', name_splitted[0])[0])\n",
    "\n",
    "        source = dataset[pair_id]['source']\n",
    "        dest = dataset[pair_id]['destination']\n",
    "            \n",
    "        mapping[pair_id] = {}\n",
    "        for repo_pair in data_all:\n",
    "            if data_all[repo_pair]['mainline'] == source:\n",
    "                if data_all[repo_pair]['variant'] == dest:\n",
    "                    mapping[pair_id]['repo_id'] = repo_pair\n",
    "                    mapping[pair_id]['mainline-variant'] = True\n",
    "            elif data_all[repo_pair]['mainline'] == dest:\n",
    "                if data_all[repo_pair]['variant'] == source:\n",
    "                    mapping[pair_id]['repo_id'] = repo_pair\n",
    "                    \n",
    "                    mapping[pair_id]['mainline-variant'] = False"
   ]
  },
  {
   "cell_type": "code",
   "execution_count": 7,
   "metadata": {},
   "outputs": [],
   "source": [
    "token_list = list()\n",
    "\n",
    "with open('/mnt/c/Users/User1/Desktop/tokens.txt') as f:\n",
    "    lines = f.readlines()\n",
    "    for line in lines[0].split(','):\n",
    "        token_list.append(line)\n",
    "        \n",
    "lenTokens = len(token_list)"
   ]
  },
  {
   "cell_type": "code",
   "execution_count": 9,
   "metadata": {},
   "outputs": [],
   "source": [
    "directory = 'Repos_metrics'\n",
    "\n",
    "time_lag_data = [['pair_id', 'source_variant', 'target_variant', 'mainline-varaint-dir', 'pr_nr', 'pr_title', 'patch_class', 'patched_date', 'latest_date_target', 'lag']]\n",
    "ct = 0\n",
    "\n",
    "for filename in os.listdir(directory):\n",
    "    file_path = os.path.join(directory, filename)\n",
    "    if os.path.isfile(file_path):       \n",
    "        with open(file_path, 'rb') as f:\n",
    "            metrics = pickle.load(f)[0]\n",
    "            \n",
    "            name_splitted = filename.split('_')\n",
    "            pair_id = int(re.findall(r'\\d+', name_splitted[0])[0])\n",
    "            \n",
    "            source = dataset[pair_id]['source']\n",
    "            dest = dataset[pair_id]['destination']\n",
    "            try:\n",
    "                for pr, classes in metrics.items():\n",
    "                    if classes['verdict'] in [ 'MO', 'SP']:\n",
    "                        if ct == lenTokens:\n",
    "                            ct = 0\n",
    "                        pr_url = 'https://api.github.com/repos/' + source + '/pulls/' + pr\n",
    "                        pr_data = classifier.apiRequest(pr_url, token_list[ct])\n",
    "                        ct += 1\n",
    "\n",
    "                        latest_date = datetime.datetime.strptime(dataset[pair_id]['cut_off_date'], '%Y-%m-%dT%H:%M:%SZ')\n",
    "                        merged_date = datetime.datetime.strptime(pr_data[\"merged_at\"], '%Y-%m-%dT%H:%M:%SZ')\n",
    "                        time_lag = latest_date - merged_date\n",
    "                        time_lag_data.append([mapping[pair_id]['repo_id'], source, dest, mapping[pair_id]['mainline-variant'], pr, pr_data['title'], classes['verdict'], merged_date, latest_date, time_lag])\n",
    "            except Exception as e:\n",
    "                print(e)\n",
    "                print(source, dest)\n",
    "                print(pr_url)\n",
    "                print(pr)"
   ]
  },
  {
   "cell_type": "code",
   "execution_count": null,
   "metadata": {},
   "outputs": [],
   "source": [
    "for i in time_lag_data[1:]:\n",
    "    i[7] = str(i[7])\n",
    "    i[8] = str(i[8])\n",
    "    i[9] = str(i[9])\n",
    "    i.append(str(i[9]))\n",
    "    i.append(str((i[9].days * 24 *60 * 60)+(i[9].seconds)))"
   ]
  },
  {
   "cell_type": "code",
   "execution_count": 31,
   "metadata": {},
   "outputs": [],
   "source": [
    "with open('time lag.csv', 'w') as f:\n",
    "    writer = csv.writer(f)\n",
    "    writer.writerows(time_lag_data)"
   ]
  }
 ],
 "metadata": {
  "kernelspec": {
   "display_name": "Python 3",
   "language": "python",
   "name": "python3"
  },
  "language_info": {
   "codemirror_mode": {
    "name": "ipython",
    "version": 3
   },
   "file_extension": ".py",
   "mimetype": "text/x-python",
   "name": "python",
   "nbconvert_exporter": "python",
   "pygments_lexer": "ipython3",
   "version": "3.8.3"
  }
 },
 "nbformat": 4,
 "nbformat_minor": 5
}
