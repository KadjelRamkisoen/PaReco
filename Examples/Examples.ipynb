{
 "cells": [
  {
   "cell_type": "markdown",
   "id": "8df7d374",
   "metadata": {},
   "source": [
    "# Example code\n",
    "This notebook runs the recommendation took for sample pair repository"
   ]
  },
  {
   "cell_type": "markdown",
   "id": "c64bf49c",
   "metadata": {},
   "source": [
    "Import os and set the directory to the parent directory ```MSCEDD/```"
   ]
  },
  {
   "cell_type": "code",
   "execution_count": null,
   "id": "ed6e0b55",
   "metadata": {},
   "outputs": [],
   "source": [
    "import os  \n",
    "os.chdir('./..')"
   ]
  },
  {
   "cell_type": "markdown",
   "id": "4538d471",
   "metadata": {},
   "source": [
    "Import necessary libraries"
   ]
  },
  {
   "cell_type": "code",
   "execution_count": null,
   "id": "2ab16ad7",
   "metadata": {},
   "outputs": [],
   "source": [
    "import pickle\n",
    "from Examples.MSECCD import MSECCD\n",
    "import Methods.common as common\n",
    "\n",
    "try:\n",
    "    import argparse\n",
    "    import magic\n",
    "except ImportError as err:\n",
    "    print (err)\n",
    "    sys.exit(-1)"
   ]
  },
  {
   "cell_type": "markdown",
   "id": "0b3cd3f8",
   "metadata": {},
   "source": [
    "Add GitHub tokens\n",
    "\n",
    "GitHub tokens can be added in two ways (choose one):\n",
    "    \n",
    "    1. Read from file from tokens.txt\n",
    "    \n",
    "    2. Manually add to the token_list in the notebook. \n",
    "    token_list = ['token1', 'token2', 'token3', ..., 'tokenx']\n",
    "\n",
    "Keep in mind that GitHub tokens are automatically reverted when commited to GitHub. Before commiting always make sure to remove all tokens from the notebook ifyou add it in the notebook."
   ]
  },
  {
   "cell_type": "code",
   "execution_count": null,
   "id": "d17ad0fd",
   "metadata": {},
   "outputs": [],
   "source": [
    "\"\"\"\n",
    "    Read from list\n",
    "\"\"\"\n",
    "token_file = 'tokens.txt'\n",
    "\n",
    "token_list = list()\n",
    "with open(token_file) as f:\n",
    "    lines = f.readlines()\n",
    "    for line in lines[0].split(','):\n",
    "        token_list.append(line)\n",
    "\n",
    "\"\"\"\n",
    "    Manually add in notebook\n",
    "\"\"\"\n",
    "# token_list = ['','']\n",
    "\n",
    "lenTokens = len(token_list)"
   ]
  },
  {
   "cell_type": "markdown",
   "id": "72feb4b0",
   "metadata": {},
   "source": [
    "Create a magic cookie. This is needed during classification"
   ]
  },
  {
   "cell_type": "code",
   "execution_count": null,
   "id": "87ab751d",
   "metadata": {},
   "outputs": [],
   "source": [
    "common.verbose = False\n",
    "\n",
    "try:\n",
    "    common.magic_cookie = magic.open(magic.MAGIC_MIME)\n",
    "    common.magic_cookie.load()\n",
    "except AttributeError:\n",
    "    common.magic_cookie = magic.Magic(mime=True, uncompress=True)\n",
    "common.verbose_print('[-] initialized magic cookie\\n')"
   ]
  },
  {
   "cell_type": "markdown",
   "id": "78c04157",
   "metadata": {},
   "source": [
    "Create the direcotires Repos_files and Repos_results that will be used to store data while running.\n",
    "\n",
    "Run this only once to create the directories and after comment it out."
   ]
  },
  {
   "cell_type": "code",
   "execution_count": null,
   "id": "1e9c2fdb",
   "metadata": {},
   "outputs": [],
   "source": [
    "# os.mkdir(os.path.join(os.getcwd(), 'Examples/Repos_files'))\n",
    "# os.mkdir(os.path.join(os.getcwd(), 'Examples/Repos_results'))"
   ]
  },
  {
   "cell_type": "markdown",
   "id": "1d994f6a",
   "metadata": {},
   "source": [
    "### Running the tool\n",
    "\n",
    "Running tool is split into 6 steps\n",
    "\n",
    "The data the tool needs is stored in data\n",
    "\n",
    "        data = [(id, variant1, variant2, least_date, diverged_date, token_list)]\n",
    "    \n",
    "        id - a unique id for the pair of repository to identify it by, e.g '1'\n",
    "        variant1 - the source repository\n",
    "        variant2 - the target repository\n",
    "        least_date - the cut off date for the repositories.\n",
    "        diverged_date - diverged date of the target repository. \n",
    "        token_list - list of GitHub tokens\n",
    "    \n",
    "Pull requests are retrieved between [diverged_date, least_date]. You can shorten or lengthen the time by changing this interval. The least_date needs to be equal or later than the diverged_date.\n",
    "\n",
    "If you wish to see all output of the tool, turn verbose mode on. This can be done by calling the ```verboseMode()``` function of the tool.\n",
    "\n",
    "To turn it on: ```example.verboseMode()```\n",
    "    \n",
    "To turn it off: ```example.verboseMode(False)```"
   ]
  },
  {
   "cell_type": "code",
   "execution_count": null,
   "id": "f55d0a61",
   "metadata": {},
   "outputs": [],
   "source": [
    "# data = ('4','korfuri/django-prometheus', 'prezi/django-exporter', '', '', token_list)\n",
    "# data = ('2','apache/kafka', 'linkedin/kafka', '', '', token_list)\n",
    "data = ('3','PowerShell/openssh-portable', 'openssh/openssh-portable', '', '', token_list)"
   ]
  },
  {
   "cell_type": "markdown",
   "id": "9016a0f3",
   "metadata": {},
   "source": [
    "Create an object of the MSECCD class. \n",
    "This class contains all the necessary functions to run the tool."
   ]
  },
  {
   "cell_type": "code",
   "execution_count": null,
   "id": "22f1137b",
   "metadata": {},
   "outputs": [],
   "source": [
    "example = MSECCD(data)"
   ]
  },
  {
   "cell_type": "markdown",
   "id": "9de95c1a",
   "metadata": {},
   "source": [
    "Get the ```divergence date``` and ```cut_off_date``` for ```variant2```."
   ]
  },
  {
   "cell_type": "code",
   "execution_count": null,
   "id": "5697b478",
   "metadata": {},
   "outputs": [],
   "source": [
    "example.getDates()"
   ]
  },
  {
   "cell_type": "markdown",
   "id": "969b85da",
   "metadata": {},
   "source": [
    "Extract the patches from ```variant1``` (prs_source) and ```variant2``` (prs_variant) from GitHub in the time interval ```[diverged_date, cut_off_date]```. \n",
    "\n",
    "The date format is ```yyyy-mm-ddThh:mm:ssZ```. \n",
    "\n",
    "Pass the dates on as```extractPatches(diverged_date, cut_off_date)```. This will classify the patches within that time interval."
   ]
  },
  {
   "cell_type": "code",
   "execution_count": null,
   "id": "316d2de6",
   "metadata": {},
   "outputs": [],
   "source": [
    "prs_source = example.extractPatches('2022-02-23T21:23:13Z', '2022-05-31T09:13:25Z')"
   ]
  },
  {
   "cell_type": "markdown",
   "id": "9a9ee03d",
   "metadata": {},
   "source": [
    "The patch number and the patch titles extracted in the previous step are stored in adataframe.\n",
    "\n",
    "Access this data using dfPatchClass().\n",
    "\n",
    "You can control the number of rows you wish to see by passing a integer, n,  to the function that will only output the first n rows."
   ]
  },
  {
   "cell_type": "code",
   "execution_count": null,
   "id": "869a8a52",
   "metadata": {},
   "outputs": [],
   "source": [
    "example.setPrs([327])\n",
    "example.dfPatches()"
   ]
  },
  {
   "cell_type": "markdown",
   "id": "36cb5d11",
   "metadata": {},
   "source": [
    "Run the classification for the patches extracted in the previous step."
   ]
  },
  {
   "cell_type": "code",
   "execution_count": null,
   "id": "693d423d",
   "metadata": {},
   "outputs": [],
   "source": [
    "example.runClassification(prs_source)"
   ]
  },
  {
   "cell_type": "markdown",
   "id": "473aa872",
   "metadata": {},
   "source": [
    "The results of the classification are stored in 2 dataframes.\n",
    "\n",
    "Access the patch classifications using dfFilesClass().\n",
    "\n",
    "You can control the number of rows you wish to see by passing a integer, n,  to the function that will only output the first n rows."
   ]
  },
  {
   "cell_type": "code",
   "execution_count": null,
   "id": "ba25c155",
   "metadata": {},
   "outputs": [],
   "source": [
    "#Patches\n",
    "example.dfPatchClass()"
   ]
  },
  {
   "cell_type": "markdown",
   "id": "44a0ce5d",
   "metadata": {},
   "source": [
    "Access the file classifications using dfFileClass().\n",
    "\n",
    "You can control the number of rows you wish to see by passing a integer, n,  to the function that will only output the first n rows."
   ]
  },
  {
   "cell_type": "code",
   "execution_count": null,
   "id": "bfcfe26a",
   "metadata": {},
   "outputs": [],
   "source": [
    "#Files\n",
    "example.dfFileClass()"
   ]
  },
  {
   "cell_type": "code",
   "execution_count": null,
   "id": "154ff67c",
   "metadata": {},
   "outputs": [],
   "source": []
  },
  {
   "cell_type": "code",
   "execution_count": null,
   "id": "f2b4e625",
   "metadata": {},
   "outputs": [],
   "source": []
  }
 ],
 "metadata": {
  "kernelspec": {
   "display_name": "Python 3",
   "language": "python",
   "name": "python3"
  },
  "language_info": {
   "codemirror_mode": {
    "name": "ipython",
    "version": 3
   },
   "file_extension": ".py",
   "mimetype": "text/x-python",
   "name": "python",
   "nbconvert_exporter": "python",
   "pygments_lexer": "ipython3",
   "version": "3.8.5"
  }
 },
 "nbformat": 4,
 "nbformat_minor": 5
}
